{
 "cells": [
  {
   "cell_type": "markdown",
   "metadata": {},
   "source": [
    "# Methodologies Used\n",
    "### 1. Data Cleaning and Validation\n",
    "Why: Before any analysis, it's essential to clean and validate the data to ensure accuracy. This involves identifying missing data, inconsistencies, and outliers.\n",
    "\n",
    "### 2. Descriptive Statistics\n",
    "Why: Descriptive statistics (e.g., counts, averages) provide a high-level overview of the data, helping to identify trends and patterns.\n",
    "\n",
    "### 3. Visualization\n",
    "Why: Visualizations like bar charts and pie charts make it easier to spot trends and communicate insights effectively.\n",
    "\n",
    "### 4. Trend Analysis\n",
    "Why: Analyzing trends over time helps identify patterns in user behavior and engagement.\n",
    "\n",
    "### 5. Segmentation\n",
    "Why: Segmenting users based on engagement levels or program preferences allows for targeted actions to improve overall participation."
   ]
  },
  {
   "cell_type": "markdown",
   "metadata": {},
   "source": []
  }
 ],
 "metadata": {
  "language_info": {
   "name": "python"
  }
 },
 "nbformat": 4,
 "nbformat_minor": 2
}
