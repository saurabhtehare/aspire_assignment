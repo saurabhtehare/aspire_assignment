{
 "cells": [
  {
   "cell_type": "markdown",
   "metadata": {},
   "source": [
    "### Visible Trends/Highlights:\n",
    "1. *Popular Programs*:\n",
    "   - Programs like \"Cardio Expert\" (ID: 10220) and \"Guest Happiness Coordinator\" (ID: 10168) are frequently updated in the user updates sheet, indicating they are popular among users.\n",
    "   - Wellbeing programs like \"Yoga\" (ID: 10023) and \"Balanced Diet\" (ID: 10030) also show frequent updates, suggesting a focus on health and wellness.\n",
    "\n",
    "2. *Active Users*:\n",
    "   - Users like 12240 (Aditi Singh) and 12249 (Rajesh Aggarwal) have multiple updates across different programs, indicating high engagement.\n",
    "   - Users in the \"Operation\" department (e.g. Aditi Singh) are highly active, suggesting that operational staff are more engaged in these programs.\n",
    "   - Also Users in the \"F&B\" department (e.g. Rajesh Aggarwal) are highly active, suggesting that F&B staff are more engaged in these programs.\n",
    "\n",
    "3. *Task Engagement*:\n",
    "   - Tasks related to financial compliance (e.g., \"Review TDS and GST compliance for 30 minutes\") and project management (e.g., \"Update project timelines daily to track progress\") are frequently completed, indicating a focus on operational efficiency.\n",
    "   - Wellbeing tasks like \"Meditate for 5 minutes\" and \"Track your fruit/vegetable intake for the day\" are also popular, reflecting a growing interest in personal health.\n",
    "   \n",
    "4. *Program Types*:\n",
    "   - Mastery programs (e.g., \"Payment Solutions Expert\") are more frequently updated compared to Wellbeing programs, suggesting a stronger focus on skill development.\n",
    "   - Wellbeing programs, however, show consistent engagement, indicating a balanced approach between professional and personal development.\n",
    "\n",
    "5. *Department-wise Engagement*:\n",
    "   - Users from the \"Operation\" and \"F&B\" departments are more active in program updates compared to other departments like \"IT\" or \"Security\". This could indicate a need to increase engagement in less active departments."
   ]
  },
  {
   "cell_type": "markdown",
   "metadata": {},
   "source": []
  }
 ],
 "metadata": {
  "language_info": {
   "name": "python"
  }
 },
 "nbformat": 4,
 "nbformat_minor": 2
}
