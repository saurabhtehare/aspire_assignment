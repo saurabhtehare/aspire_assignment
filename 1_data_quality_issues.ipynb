{
 "cells": [
  {
   "cell_type": "code",
   "execution_count": 1,
   "metadata": {},
   "outputs": [],
   "source": [
    "import pandas as pd"
   ]
  },
  {
   "cell_type": "code",
   "execution_count": 3,
   "metadata": {},
   "outputs": [],
   "source": [
    "# Load data from Excel sheets\n",
    "users = pd.read_excel('Sample Data - Aspire.xlsx', sheet_name='users')\n",
    "programs = pd.read_excel('Sample Data - Aspire.xlsx', sheet_name='programs')\n",
    "tasks = pd.read_excel('Sample Data - Aspire.xlsx', sheet_name='tasks')\n",
    "updates = pd.read_excel('Sample Data - Aspire.xlsx', sheet_name='user updates')"
   ]
  },
  {
   "cell_type": "markdown",
   "metadata": {},
   "source": [
    "### Data Quality Issues:"
   ]
  },
  {
   "cell_type": "markdown",
   "metadata": {},
   "source": [
    "1. #### Users Sheet (users_df)\n",
    "- **userid vs. userId mismatch:** In \"users\" sheet, user IDs are named userid, whereas in \"user updates,\" it is userId (case difference). This may cause merge issues.\n",
    "- **Missing values:** No visible missing data at first glance, but needs further checks.\n",
    "- **Duplicate entries**: need to be check"
   ]
  },
  {
   "cell_type": "code",
   "execution_count": 22,
   "metadata": {},
   "outputs": [
    {
     "name": "stdout",
     "output_type": "stream",
     "text": [
      "columns of users sheet:  Index(['userid', 'name', 'department', 'empId'], dtype='object')\n",
      "columns of users_update sheet: Index(['id', 'programType', 'createdAt', 'updatedAt', 'userId', 'programId',\n",
      "       'ist created at', 'task update information'],\n",
      "      dtype='object')\n"
     ]
    }
   ],
   "source": [
    "print(\"columns of users sheet: \",users.columns)\n",
    "print(\"columns of users_update sheet:\",updates.columns)"
   ]
  },
  {
   "cell_type": "code",
   "execution_count": 24,
   "metadata": {},
   "outputs": [
    {
     "name": "stdout",
     "output_type": "stream",
     "text": [
      "Missing values for users:\n",
      " userid        0\n",
      "name          0\n",
      "department    0\n",
      "empId         0\n",
      "dtype: int64\n"
     ]
    }
   ],
   "source": [
    "print(\"Missing values for users:\\n\",users.isnull().sum())"
   ]
  },
  {
   "cell_type": "code",
   "execution_count": 39,
   "metadata": {},
   "outputs": [
    {
     "name": "stdout",
     "output_type": "stream",
     "text": [
      "Duplicates entries for name column: 0\n"
     ]
    }
   ],
   "source": [
    "print(\"Duplicates entries for name column:\",users.duplicated().sum())"
   ]
  },
  {
   "cell_type": "markdown",
   "metadata": {},
   "source": [
    "2. #### Programs Sheet (programs_df)\n",
    "- **CoinsPerDayPerPerson has NaN values:** This column has missing values, which might affect reward calculations.\n",
    "- **pointsPerDayPerPerson has NaN values:** This column has missing values, which might affect reward calculations.\n",
    "- **id column not named consistently:** It should ideally be programId to align with other sheets."
   ]
  },
  {
   "cell_type": "code",
   "execution_count": 29,
   "metadata": {},
   "outputs": [
    {
     "name": "stdout",
     "output_type": "stream",
     "text": [
      "Missing values of Program Sheet:\n",
      " id                        0\n",
      "programName               0\n",
      "pointsPerDayPerPerson    25\n",
      "coinsPerDayPerPerson     40\n",
      "programType               0\n",
      "dtype: int64\n"
     ]
    }
   ],
   "source": [
    "print(\"Missing values of Program Sheet:\\n\",programs.isnull().sum())"
   ]
  },
  {
   "cell_type": "markdown",
   "metadata": {},
   "source": [
    "3. #### Tasks Sheet (tasks_df)\n",
    "- **Points and Coins columns have NaN values**: taskCoins and taskPoints have missing values.\n",
    "- **taskMinDuration inconsistencies:** Some tasks have durations in thousands (2000), which seems incorrect also no unit mentioned.\n",
    "- **id column naming:** The column id should ideally be taskId for clarity."
   ]
  },
  {
   "cell_type": "code",
   "execution_count": 30,
   "metadata": {},
   "outputs": [
    {
     "name": "stdout",
     "output_type": "stream",
     "text": [
      "Missing values of Tasks sheet:\n",
      " id                   0\n",
      "taskName             0\n",
      "taskType             0\n",
      "taskPoints         168\n",
      "taskCoins          237\n",
      "taskMinDuration      0\n",
      "programId            0\n",
      "dtype: int64\n"
     ]
    }
   ],
   "source": [
    "print(\"Missing values of Tasks sheet:\\n\",tasks.isnull().sum())"
   ]
  },
  {
   "cell_type": "code",
   "execution_count": 32,
   "metadata": {},
   "outputs": [
    {
     "data": {
      "text/plain": [
       "0      2000\n",
       "1        18\n",
       "2        18\n",
       "3        18\n",
       "4        18\n",
       "       ... \n",
       "400      18\n",
       "401      18\n",
       "402      18\n",
       "403      18\n",
       "404       1\n",
       "Name: taskMinDuration, Length: 405, dtype: int64"
      ]
     },
     "execution_count": 32,
     "metadata": {},
     "output_type": "execute_result"
    }
   ],
   "source": [
    "tasks[\"taskMinDuration\"] #incosistencies and no unit specified"
   ]
  },
  {
   "cell_type": "markdown",
   "metadata": {},
   "source": [
    "4. #### User Updates Sheet (user_updates_df)\n",
    "- **Date issues:** Columns createdAt and updatedAt are same.\n",
    "- **Mismatched program IDs:** Some programId values don’t match the \"programs\" sheet, suggesting missing or incorrect records.\n",
    "- **Duplicate user entries?:** Needs checking if a user is updating the same task multiple times in the same period.\n",
    "- **task update information column have sample text**\n"
   ]
  },
  {
   "cell_type": "code",
   "execution_count": 34,
   "metadata": {},
   "outputs": [
    {
     "data": {
      "text/html": [
       "<div>\n",
       "<style scoped>\n",
       "    .dataframe tbody tr th:only-of-type {\n",
       "        vertical-align: middle;\n",
       "    }\n",
       "\n",
       "    .dataframe tbody tr th {\n",
       "        vertical-align: top;\n",
       "    }\n",
       "\n",
       "    .dataframe thead th {\n",
       "        text-align: right;\n",
       "    }\n",
       "</style>\n",
       "<table border=\"1\" class=\"dataframe\">\n",
       "  <thead>\n",
       "    <tr style=\"text-align: right;\">\n",
       "      <th></th>\n",
       "      <th>createdAt</th>\n",
       "      <th>updatedAt</th>\n",
       "    </tr>\n",
       "  </thead>\n",
       "  <tbody>\n",
       "    <tr>\n",
       "      <th>0</th>\n",
       "      <td>2025-02-07 06:16:14</td>\n",
       "      <td>2025-02-07 06:16:14</td>\n",
       "    </tr>\n",
       "    <tr>\n",
       "      <th>1</th>\n",
       "      <td>2025-02-07 06:16:11</td>\n",
       "      <td>2025-02-07 06:16:11</td>\n",
       "    </tr>\n",
       "    <tr>\n",
       "      <th>2</th>\n",
       "      <td>2025-02-07 06:15:07</td>\n",
       "      <td>2025-02-07 06:15:07</td>\n",
       "    </tr>\n",
       "    <tr>\n",
       "      <th>3</th>\n",
       "      <td>2025-02-07 06:13:39</td>\n",
       "      <td>2025-02-07 06:13:39</td>\n",
       "    </tr>\n",
       "    <tr>\n",
       "      <th>4</th>\n",
       "      <td>2025-02-07 06:12:29</td>\n",
       "      <td>2025-02-07 06:12:29</td>\n",
       "    </tr>\n",
       "    <tr>\n",
       "      <th>...</th>\n",
       "      <td>...</td>\n",
       "      <td>...</td>\n",
       "    </tr>\n",
       "    <tr>\n",
       "      <th>5008</th>\n",
       "      <td>2024-12-16 07:44:38</td>\n",
       "      <td>2024-12-16 07:44:38</td>\n",
       "    </tr>\n",
       "    <tr>\n",
       "      <th>5009</th>\n",
       "      <td>2024-12-16 07:41:38</td>\n",
       "      <td>2024-12-16 07:41:38</td>\n",
       "    </tr>\n",
       "    <tr>\n",
       "      <th>5010</th>\n",
       "      <td>2024-12-16 07:37:47</td>\n",
       "      <td>2024-12-16 07:37:47</td>\n",
       "    </tr>\n",
       "    <tr>\n",
       "      <th>5011</th>\n",
       "      <td>2024-12-16 07:27:51</td>\n",
       "      <td>2024-12-16 07:27:51</td>\n",
       "    </tr>\n",
       "    <tr>\n",
       "      <th>5012</th>\n",
       "      <td>2024-12-16 07:07:39</td>\n",
       "      <td>2024-12-16 07:07:39</td>\n",
       "    </tr>\n",
       "  </tbody>\n",
       "</table>\n",
       "<p>5013 rows × 2 columns</p>\n",
       "</div>"
      ],
      "text/plain": [
       "               createdAt           updatedAt\n",
       "0    2025-02-07 06:16:14 2025-02-07 06:16:14\n",
       "1    2025-02-07 06:16:11 2025-02-07 06:16:11\n",
       "2    2025-02-07 06:15:07 2025-02-07 06:15:07\n",
       "3    2025-02-07 06:13:39 2025-02-07 06:13:39\n",
       "4    2025-02-07 06:12:29 2025-02-07 06:12:29\n",
       "...                  ...                 ...\n",
       "5008 2024-12-16 07:44:38 2024-12-16 07:44:38\n",
       "5009 2024-12-16 07:41:38 2024-12-16 07:41:38\n",
       "5010 2024-12-16 07:37:47 2024-12-16 07:37:47\n",
       "5011 2024-12-16 07:27:51 2024-12-16 07:27:51\n",
       "5012 2024-12-16 07:07:39 2024-12-16 07:07:39\n",
       "\n",
       "[5013 rows x 2 columns]"
      ]
     },
     "execution_count": 34,
     "metadata": {},
     "output_type": "execute_result"
    }
   ],
   "source": [
    "updates[[\"createdAt\",\"updatedAt\"]]"
   ]
  },
  {
   "cell_type": "code",
   "execution_count": 36,
   "metadata": {},
   "outputs": [
    {
     "name": "stdout",
     "output_type": "stream",
     "text": [
      "Program ID not matching with program sheet:\n",
      " {10177, 10178, 10181, 10186, 10218, 10219, 10189, 10198, 10170, 10204}\n"
     ]
    }
   ],
   "source": [
    "programid_not_in_updates = set(programs['id']) - set(updates['programId'])\n",
    "print(\"Program ID not matching with program sheet:\\n\", programid_not_in_updates)"
   ]
  },
  {
   "cell_type": "code",
   "execution_count": 37,
   "metadata": {},
   "outputs": [
    {
     "name": "stdout",
     "output_type": "stream",
     "text": [
      "Duplicate Entries for same users for same timming: 4\n"
     ]
    }
   ],
   "source": [
    "print(\"Duplicate Entries for same users for same timming:\",updates.duplicated(subset=[\"userId\",\"createdAt\"]).sum())"
   ]
  },
  {
   "cell_type": "code",
   "execution_count": 38,
   "metadata": {},
   "outputs": [
    {
     "data": {
      "text/html": [
       "<div>\n",
       "<style scoped>\n",
       "    .dataframe tbody tr th:only-of-type {\n",
       "        vertical-align: middle;\n",
       "    }\n",
       "\n",
       "    .dataframe tbody tr th {\n",
       "        vertical-align: top;\n",
       "    }\n",
       "\n",
       "    .dataframe thead th {\n",
       "        text-align: right;\n",
       "    }\n",
       "</style>\n",
       "<table border=\"1\" class=\"dataframe\">\n",
       "  <thead>\n",
       "    <tr style=\"text-align: right;\">\n",
       "      <th></th>\n",
       "      <th>task update information</th>\n",
       "    </tr>\n",
       "  </thead>\n",
       "  <tbody>\n",
       "    <tr>\n",
       "      <th>0</th>\n",
       "      <td>sample text</td>\n",
       "    </tr>\n",
       "    <tr>\n",
       "      <th>1</th>\n",
       "      <td>sample text</td>\n",
       "    </tr>\n",
       "    <tr>\n",
       "      <th>2</th>\n",
       "      <td>sample text</td>\n",
       "    </tr>\n",
       "    <tr>\n",
       "      <th>3</th>\n",
       "      <td>sample text</td>\n",
       "    </tr>\n",
       "    <tr>\n",
       "      <th>4</th>\n",
       "      <td>sample text</td>\n",
       "    </tr>\n",
       "    <tr>\n",
       "      <th>...</th>\n",
       "      <td>...</td>\n",
       "    </tr>\n",
       "    <tr>\n",
       "      <th>5008</th>\n",
       "      <td>sample text</td>\n",
       "    </tr>\n",
       "    <tr>\n",
       "      <th>5009</th>\n",
       "      <td>sample text</td>\n",
       "    </tr>\n",
       "    <tr>\n",
       "      <th>5010</th>\n",
       "      <td>sample text</td>\n",
       "    </tr>\n",
       "    <tr>\n",
       "      <th>5011</th>\n",
       "      <td>sample text</td>\n",
       "    </tr>\n",
       "    <tr>\n",
       "      <th>5012</th>\n",
       "      <td>sample text</td>\n",
       "    </tr>\n",
       "  </tbody>\n",
       "</table>\n",
       "<p>5013 rows × 1 columns</p>\n",
       "</div>"
      ],
      "text/plain": [
       "     task update information\n",
       "0                sample text\n",
       "1                sample text\n",
       "2                sample text\n",
       "3                sample text\n",
       "4                sample text\n",
       "...                      ...\n",
       "5008             sample text\n",
       "5009             sample text\n",
       "5010             sample text\n",
       "5011             sample text\n",
       "5012             sample text\n",
       "\n",
       "[5013 rows x 1 columns]"
      ]
     },
     "execution_count": 38,
     "metadata": {},
     "output_type": "execute_result"
    }
   ],
   "source": [
    "updates[[\"task update information\"]]"
   ]
  },
  {
   "cell_type": "code",
   "execution_count": null,
   "metadata": {},
   "outputs": [],
   "source": []
  }
 ],
 "metadata": {
  "kernelspec": {
   "display_name": "base",
   "language": "python",
   "name": "python3"
  },
  "language_info": {
   "codemirror_mode": {
    "name": "ipython",
    "version": 3
   },
   "file_extension": ".py",
   "mimetype": "text/x-python",
   "name": "python",
   "nbconvert_exporter": "python",
   "pygments_lexer": "ipython3",
   "version": "3.12.7"
  }
 },
 "nbformat": 4,
 "nbformat_minor": 2
}
